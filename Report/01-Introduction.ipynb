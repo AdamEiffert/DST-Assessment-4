{
 "cells": [
  {
   "cell_type": "markdown",
   "id": "380fc952",
   "metadata": {},
   "source": [
    "## The brief\n",
    "\n",
    "The brief was to:\n",
    "\n",
    "* Choose a question to investigate using Neural Networks\n",
    "* Use a useful stratergy to lear the parameters of the models\n",
    "* Use a useful strategy to to analyse the performance of the models\n",
    "\n",
    "First we decided to use a dataset that we had already used and processed, this enabled us to focus more on the training and analysis of the models. It also ensured that we were able to have enough time to get to grips with the HPC. We decided that our main investigation would be how different activation functions affected the performance of nerual networks of different depths. The activation functions were tanh, RELU and Swish, and they were applied to neural nets with 1, 3, 5 and 10 hidden layers. We will also not that we have 3 different approaches that we tried throughout this project, these are indicated by the suffix of [null], 1 or 2. The first approach used the 10% dataset and classified whether the data was malicious or not, the second approach used the full dataset and classified whether the data was malicious or not, the third approach used the full dataset and classified whether the data was normal or 'user to root', 'probe', 'denial of service' or 'remote to local' attacks. The reason for the different approaches is: first the HPC allowed us access to the ability to use more data; second because the categorisation of just malicious or not did not give us enough variation in results for us to evaluate the difference between the functions.\n",
    "On top of this we perform adversarial attacks the neural nets with the same parameters and fixed epochs to investigate the robustness and the ability to defend the adversarial attacks after adversarial training. \n",
    "\n",
    "## Library requirements\n"
   ]
  },
  {
   "cell_type": "code",
   "execution_count": 2,
   "id": "600ac39d",
   "metadata": {},
   "outputs": [],
   "source": [
    "import pandas as pd\n",
    "import urllib.request\n",
    "import os\n",
    "import csv"
   ]
  },
  {
   "cell_type": "markdown",
   "id": "9c0139db",
   "metadata": {},
   "source": [
    "## The data\n",
    "\n",
    "We decided to use the KDDCUP99 dataset, both the 10% version (kddcup.csv) and full version (kddcup1.csv).\n",
    "\n",
    "To obtain this dataset in a convenient format, we will download it and, if necessary, process it into a standard form.\n",
    "\n",
    "We place data in the raw or processed folder depending on the stage of processing, both of which are in the `data` folder of our root. So our file system will look like this:\n",
    "\n",
    "* /data\n",
    "  * /data/raw\n",
    "      * /data/raw/kddcup.gz\n",
    "      * /data/raw/kddcup1.gz\n",
    "  * /data/processed\n",
    "      * /data/processed/kddcup.csv\n",
    "      * /data/processed/kddcup1.csv\n",
    "      * /data/processed/test_train.csv\n",
    "      * /data/processed/processed_kddcup.csv\n",
    "      * /data/processed/scores\n",
    "      * /data/processed/scores1\n",
    "      * /data/processed/scores2\n",
    "      * /data/processed/scores3\n",
    "      * /data/processed/test2.csv\n",
    "      * /data/processed/train2.csv\n",
    "      * /data/processed/models/\n",
    "\n",
    "### Get the data"
   ]
  },
  {
   "cell_type": "code",
   "execution_count": 4,
   "id": "3ec67cd0",
   "metadata": {},
   "outputs": [],
   "source": [
    "if not(os.path.isdir('../data')):\n",
    "    os.mkdir('../data')\n",
    "if not(os.path.isdir('../data/raw')):\n",
    "    os.mkdir('../data/raw')\n",
    "if not(os.path.isdir('../data/processed')):\n",
    "    os.mkdir('../data/processed')\n",
    "if not(os.path.isdir('../data/raw/kddcup.gz')):\n",
    "    url = 'http://kdd.ics.uci.edu/databases/kddcup99/kddcup.data_10_percent.gz'\n",
    "    urllib.request.urlretrieve(url, '../data/raw/kddcup.gz')\n",
    "if not(os.path.isdir('../data/processed/kddcup.csv')):\n",
    "    col = ['duration', 'protocol_type','service', 'flag', 'src_bytes', 'dst_bytes', 'land', 'wrong_fragment', 'urgent', 'hot', 'num_failed_logins', 'logged_in', 'num_compromised', 'root_shell', 'su_attempted', 'num_root', 'num_file_creations', 'num_shells', 'num_access_files', 'num_outbound_cmds', 'is_host_login', 'is_guest_login', 'count', 'srv_count', 'serror_rate', 'srv_serror_rate', 'rerror_rate', 'srv_rerror_rate', 'same_srv_rate', 'diff_srv_rate', 'srv_diff_host_rate','dst_host_count', 'dst_host_srv_count', 'dst_host_same_srv_rate', 'dst_host_diff_srv_rate', 'dst_host_same_src_port_rate','dst_host_srv_diff_host_rate','dst_host_serror_rate', 'dst_host_srv_serror_rate','dst_host_rerror_rate', 'dst_host_srv_rerror_rate', 'type']\n",
    "    data = pd.read_csv('../data/raw/kddcup.gz', names = col)\n",
    "    data.to_csv('../data/processed/kddcup.csv')\n",
    "if not(os.path.isdir('../data/raw/kddcup.gz')):\n",
    "    url = 'http://kdd.ics.uci.edu/databases/kddcup99/kddcup.data.gz'\n",
    "    urllib.request.urlretrieve(url, '../data/raw/kddcup1.gz')\n",
    "if not(os.path.isdir('../data/processed/kddcup1.csv')):\n",
    "    col = ['duration', 'protocol_type','service', 'flag', 'src_bytes', 'dst_bytes', 'land', 'wrong_fragment', 'urgent', 'hot', 'num_failed_logins', 'logged_in', 'num_compromised', 'root_shell', 'su_attempted', 'num_root', 'num_file_creations', 'num_shells', 'num_access_files', 'num_outbound_cmds', 'is_host_login', 'is_guest_login', 'count', 'srv_count', 'serror_rate', 'srv_serror_rate', 'rerror_rate', 'srv_rerror_rate', 'same_srv_rate', 'diff_srv_rate', 'srv_diff_host_rate','dst_host_count', 'dst_host_srv_count', 'dst_host_same_srv_rate', 'dst_host_diff_srv_rate', 'dst_host_same_src_port_rate','dst_host_srv_diff_host_rate','dst_host_serror_rate', 'dst_host_srv_serror_rate','dst_host_rerror_rate', 'dst_host_srv_rerror_rate', 'type']\n",
    "    data = pd.read_csv('../data/raw/kddcup1.gz', names = col)\n",
    "    data.to_csv('../data/processed/kddcup1.csv')"
   ]
  },
  {
   "cell_type": "code",
   "execution_count": null,
   "id": "d1c0184c",
   "metadata": {},
   "outputs": [],
   "source": []
  }
 ],
 "metadata": {
  "kernelspec": {
   "display_name": "Python 3 (ipykernel)",
   "language": "python",
   "name": "python3"
  },
  "language_info": {
   "codemirror_mode": {
    "name": "ipython",
    "version": 3
   },
   "file_extension": ".py",
   "mimetype": "text/x-python",
   "name": "python",
   "nbconvert_exporter": "python",
   "pygments_lexer": "ipython3",
   "version": "3.9.7"
  }
 },
 "nbformat": 4,
 "nbformat_minor": 5
}
