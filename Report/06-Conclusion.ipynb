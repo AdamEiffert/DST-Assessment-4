{
 "cells": [
  {
   "cell_type": "markdown",
   "id": "247dce79",
   "metadata": {},
   "source": [
    "## Conclusion"
   ]
  },
  {
   "cell_type": "markdown",
   "id": "bc999d72",
   "metadata": {},
   "source": [
    "*to be filled*"
   ]
  },
  {
   "cell_type": "markdown",
   "id": "427dc4e2",
   "metadata": {},
   "source": [
    "Then we performed adversarial attacks to the Neural Network models with same parameters as the last part, but fixed epoches. After that, we re-trained model by inputting the adversarial examples generated in the first attack along with the raw input. \n",
    "\n",
    "In conclusion, three types of activation functions have no significant impact on performances against the attacks both before and after adversarial trainings. The effect of adversarial trainings only appears when when epsilon is large, and they improve the robustness more when the number of layers increases."
   ]
  }
 ],
 "metadata": {
  "kernelspec": {
   "display_name": "Python 3 (ipykernel)",
   "language": "python",
   "name": "python3"
  },
  "language_info": {
   "codemirror_mode": {
    "name": "ipython",
    "version": 3
   },
   "file_extension": ".py",
   "mimetype": "text/x-python",
   "name": "python",
   "nbconvert_exporter": "python",
   "pygments_lexer": "ipython3",
   "version": "3.9.7"
  }
 },
 "nbformat": 4,
 "nbformat_minor": 5
}
