{
 "cells": [
  {
   "cell_type": "markdown",
   "id": "5bdb672f",
   "metadata": {},
   "source": [
    "# Single Layer Neural Network"
   ]
  },
  {
   "cell_type": "code",
   "execution_count": 1,
   "id": "d82cda48",
   "metadata": {},
   "outputs": [],
   "source": [
    "#!pip3 install tensorflow keras"
   ]
  },
  {
   "cell_type": "code",
   "execution_count": 2,
   "id": "9e8059ba",
   "metadata": {
    "scrolled": true
   },
   "outputs": [],
   "source": [
    "from keras.models import Sequential\n",
    "from keras.layers import Dense\n",
    "import numpy as np\n",
    "import pandas as pd\n",
    "import time\n",
    "import statistics\n",
    "import pickle"
   ]
  },
  {
   "cell_type": "code",
   "execution_count": 3,
   "id": "f30e00b0",
   "metadata": {},
   "outputs": [],
   "source": [
    "test = pd.read_csv(\"../data/processed/test.csv\").drop(columns = ['Unnamed: 0'])\n",
    "train = pd.read_csv(\"../data/processed/train.csv\").drop(columns = ['Unnamed: 0'])"
   ]
  },
  {
   "cell_type": "code",
   "execution_count": 4,
   "id": "c0415e30",
   "metadata": {},
   "outputs": [],
   "source": [
    "features = train.shape[1] -1"
   ]
  },
  {
   "cell_type": "markdown",
   "id": "989a2650",
   "metadata": {},
   "source": [
    "## Create Models"
   ]
  },
  {
   "cell_type": "code",
   "execution_count": 5,
   "id": "51d08e54",
   "metadata": {},
   "outputs": [],
   "source": [
    "def create_model(features,layers,activation):\n",
    "    model = Sequential()\n",
    "    model.add(Dense(features, input_dim=features, activation=activation))\n",
    "    for i in range(layers):\n",
    "        model.add(Dense(features, activation=activation))\n",
    "    model.add(Dense(1, activation='sigmoid'))\n",
    "    model.compile(loss='binary_crossentropy', optimizer='adam', metrics=['accuracy','AUC'])\n",
    "    return model"
   ]
  },
  {
   "cell_type": "code",
   "execution_count": 6,
   "id": "1dca66e1",
   "metadata": {},
   "outputs": [
    {
     "name": "stderr",
     "output_type": "stream",
     "text": [
      "2022-03-07 20:11:06.257076: W tensorflow/stream_executor/platform/default/dso_loader.cc:64] Could not load dynamic library 'libcuda.so.1'; dlerror: libcuda.so.1: cannot open shared object file: No such file or directory\n",
      "2022-03-07 20:11:06.257123: W tensorflow/stream_executor/cuda/cuda_driver.cc:269] failed call to cuInit: UNKNOWN ERROR (303)\n",
      "2022-03-07 20:11:06.257152: I tensorflow/stream_executor/cuda/cuda_diagnostics.cc:156] kernel driver does not appear to be running on this host (c-VirtualBox): /proc/driver/nvidia/version does not exist\n",
      "2022-03-07 20:11:06.257511: I tensorflow/core/platform/cpu_feature_guard.cc:151] This TensorFlow binary is optimized with oneAPI Deep Neural Network Library (oneDNN) to use the following CPU instructions in performance-critical operations:  AVX2\n",
      "To enable them in other operations, rebuild TensorFlow with the appropriate compiler flags.\n"
     ]
    }
   ],
   "source": [
    "model1_tanh = create_model(features,1,'tanh')\n",
    "model1_relu = create_model(features,1,'relu')\n",
    "model1_swish = create_model(features,1,'swish')\n",
    "model3_tanh = create_model(features,3,'tanh')\n",
    "model3_relu = create_model(features,3,'relu')\n",
    "model3_swish = create_model(features,3,'swish')\n",
    "model5_tanh = create_model(features,5,'tanh')\n",
    "model5_relu = create_model(features,5,'relu')\n",
    "model5_swish = create_model(features,5,'swish')\n",
    "model10_tanh = create_model(features,10,'tanh')\n",
    "model10_relu = create_model(features,10,'relu')\n",
    "model10_swish = create_model(features,10,'swish')"
   ]
  },
  {
   "cell_type": "markdown",
   "id": "fe2a5053",
   "metadata": {},
   "source": [
    "## Train models"
   ]
  },
  {
   "cell_type": "code",
   "execution_count": 7,
   "id": "e3cd7cd3",
   "metadata": {},
   "outputs": [],
   "source": [
    "def train_model(train,test,model):\n",
    "    train_X = train.drop('normal',axis=1)\n",
    "    test_X = train.drop('normal',axis=1)\n",
    "    train_Y = train['normal']\n",
    "    test_Y = train['normal']\n",
    "    old_score = 0\n",
    "    test_score_acc=[]\n",
    "    train_score_acc=[]\n",
    "    test_score_auc=[]\n",
    "    train_score_auc=[]\n",
    "    model_time = []\n",
    "    epoch = 0\n",
    "    while (epoch < 2) or (test_score_auc[epoch-1] > test_score_auc[epoch-2]):\n",
    "        model_time1 = time.perf_counter()\n",
    "        model.fit(train_X,train_Y,epochs=1,batch_size=128)\n",
    "        current_train_score = model.evaluate(train_X,train_Y)\n",
    "        model_time2 = time.perf_counter()\n",
    "        model_time.append(model_time2 - model_time1)\n",
    "        train_score_acc.append(current_train_score[1])\n",
    "        train_score_auc.append(current_train_score[2])\n",
    "        current_test_score = model.evaluate(test_X,test_Y)\n",
    "        test_score_acc.append(current_test_score[1])\n",
    "        test_score_auc.append(current_test_score[2])\n",
    "        epoch = epoch + 1\n",
    "    avg_time = statistics.mean(model_time)\n",
    "    return (test_score_acc[:-1], train_score_acc[:-1], test_score_auc[:-1], train_score_auc[:-1], avg_time)"
   ]
  },
  {
   "cell_type": "code",
   "execution_count": 8,
   "id": "023b7a0a",
   "metadata": {},
   "outputs": [
    {
     "name": "stdout",
     "output_type": "stream",
     "text": [
      "2895/2895 [==============================] - 11s 3ms/step - loss: 0.0111 - accuracy: 0.9975 - auc: 0.9995\n",
      "11579/11579 [==============================] - 21s 2ms/step - loss: 0.0054 - accuracy: 0.9988 - auc: 0.9996\n",
      "11579/11579 [==============================] - 21s 2ms/step - loss: 0.0054 - accuracy: 0.9988 - auc: 0.9996\n",
      "2895/2895 [==============================] - 10s 3ms/step - loss: 0.0051 - accuracy: 0.9989 - auc: 0.9997\n",
      "11579/11579 [==============================] - 21s 2ms/step - loss: 0.0052 - accuracy: 0.9988 - auc: 0.9998\n",
      "11579/11579 [==============================] - 21s 2ms/step - loss: 0.0052 - accuracy: 0.9988 - auc: 0.9998\n",
      "2895/2895 [==============================] - 9s 3ms/step - loss: 0.0045 - accuracy: 0.9990 - auc: 0.9998\n",
      "11579/11579 [==============================] - 21s 2ms/step - loss: 0.0034 - accuracy: 0.9990 - auc: 0.9999\n",
      "11579/11579 [==============================] - 20s 2ms/step - loss: 0.0034 - accuracy: 0.9990 - auc: 0.9999\n",
      "2895/2895 [==============================] - 10s 3ms/step - loss: 0.0034 - accuracy: 0.9991 - auc: 0.9998\n",
      "11579/11579 [==============================] - 21s 2ms/step - loss: 0.0045 - accuracy: 0.9989 - auc: 0.9998\n",
      "11579/11579 [==============================] - 22s 2ms/step - loss: 0.0045 - accuracy: 0.9989 - auc: 0.9998\n"
     ]
    }
   ],
   "source": [
    "(test_acc, train_acc, test_auc, train_auc, time) = train_model(train,test,model1_relu)"
   ]
  },
  {
   "cell_type": "code",
   "execution_count": 9,
   "id": "8111c0ef",
   "metadata": {},
   "outputs": [
    {
     "data": {
      "image/png": "[encoded data removed]",
      "text/plain": [
       "<Figure size 432x288 with 1 Axes>"
      ]
     },
     "metadata": {
      "needs_background": "light"
     },
     "output_type": "display_data"
    }
   ],
   "source": []
  },
  {
   "cell_type": "code",
   "execution_count": 5,
   "id": "edf5e566",
   "metadata": {},
   "outputs": [
    {
     "data": {
      "text/plain": [
       "12"
      ]
     },
     "execution_count": 5,
     "metadata": {},
     "output_type": "execute_result"
    }
   ],
   "source": [
    "with open('../data/processed/scores','rb') as f:\n",
    "    scores = pickle.load(f)\n",
    "len(scores)"
   ]
  },
  {
   "cell_type": "code",
   "execution_count": null,
   "id": "1775d235",
   "metadata": {},
   "outputs": [],
   "source": []
  }
 ],
 "metadata": {
  "kernelspec": {
   "display_name": "Python 3 (ipykernel)",
   "language": "python",
   "name": "python3"
  },
  "language_info": {
   "codemirror_mode": {
    "name": "ipython",
    "version": 3
   },
   "file_extension": ".py",
   "mimetype": "text/x-python",
   "name": "python",
   "nbconvert_exporter": "python",
   "pygments_lexer": "ipython3",
   "version": "3.8.10"
  }
 },
 "nbformat": 4,
 "nbformat_minor": 5
}
